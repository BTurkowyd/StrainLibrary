{
 "nbformat": 4,
 "nbformat_minor": 2,
 "metadata": {
  "language_info": {
   "name": "python",
   "codemirror_mode": {
    "name": "ipython",
    "version": 3
   },
   "version": "3.7.3-final"
  },
  "orig_nbformat": 2,
  "file_extension": ".py",
  "mimetype": "text/x-python",
  "name": "python",
  "npconvert_exporter": "python",
  "pygments_lexer": "ipython3",
  "version": 3,
  "kernelspec": {
   "name": "python3",
   "display_name": "Python 3"
  }
 },
 "cells": [
  {
   "cell_type": "code",
   "execution_count": 1,
   "metadata": {},
   "outputs": [
    {
     "output_type": "stream",
     "name": "stderr",
     "text": [
      "/home/vertislav/anaconda3/lib/python3.7/site-packages/flask_sqlalchemy/__init__.py:834: FSADeprecationWarning: SQLALCHEMY_TRACK_MODIFICATIONS adds significant overhead and will be disabled by default in the future.  Set it to True or False to suppress this warning.\n  'SQLALCHEMY_TRACK_MODIFICATIONS adds significant overhead and '\n/home/vertislav/Projects/Python/flask_training/strain_library/strain_library/__init__.py:21: FlaskWTFDeprecationWarning: \"flask_wtf.CsrfProtect\" has been renamed to \"CSRFProtect\" and will be removed in 1.0.\n  crsf = CsrfProtect()\n"
     ]
    }
   ],
   "source": [
    "import pandas as pd\n",
    "from strain_library.models import EcoliStrain\n",
    "import datetime as dt"
   ]
  },
  {
   "cell_type": "code",
   "execution_count": 2,
   "metadata": {},
   "outputs": [],
   "source": [
    "file = pd.read_excel('Sanitized_e_coli_library.xlsx')"
   ]
  },
  {
   "cell_type": "code",
   "execution_count": 13,
   "metadata": {},
   "outputs": [
    {
     "output_type": "execute_result",
     "data": {
      "text/plain": [
       "('EC97',\n",
       " 'XL1-Blue pRSETa[mEos4b](AmpR)',\n",
       " 'E. coli',\n",
       " 'pRSETa_mEos4b',\n",
       " 'Bacterial',\n",
       " 'Ampicillin',\n",
       " 'E. coli Box 2 ',\n",
       " ' C9',\n",
       " '13/09/2016',\n",
       " nan)"
      ]
     },
     "metadata": {},
     "execution_count": 13
    }
   ],
   "source": [
    "file['Number'].loc[0], file['Name'].loc[0], file['Host'].loc[0], file['Vector'].loc[0], file['Vector type'].loc[0], file['Selection marker'].loc[0], file['Box'].loc[0], file['Slot'].loc[0], file['Date of creation'].loc[0].strftime('%d/%m/%Y'), file['Comments'].loc[0]"
   ]
  },
  {
   "cell_type": "code",
   "execution_count": 19,
   "metadata": {},
   "outputs": [
    {
     "output_type": "stream",
     "name": "stdout",
     "text": [
      "2016-09-13\n2016-09-13\n2015-02-02\n2015-02-02\n2015-02-02\n2015-02-02\n2015-02-02\n2015-02-02\n2015-02-02\n2015-02-02\n2015-02-02\n2015-02-02\n2015-02-02\n2015-02-02\n2015-02-02\n2015-02-02\n2015-02-02\n2015-02-02\n2015-02-02\n2015-02-02\n2015-02-02\n2015-02-02\n2018-01-31\n2018-01-31\n2018-01-31\n2018-01-31\n2018-07-20\n2018-08-10\n2018-10-01\n2018-08-10\n2018-10-01\n2018-08-10\n2018-07-20\n2018-08-10\n2018-07-20\n2018-01-31\n"
     ]
    },
    {
     "output_type": "error",
     "ename": "AttributeError",
     "evalue": "'str' object has no attribute 'date'",
     "traceback": [
      "\u001b[0;31m---------------------------------------------------------------------------\u001b[0m",
      "\u001b[0;31mAttributeError\u001b[0m                            Traceback (most recent call last)",
      "\u001b[0;32m<ipython-input-19-e78ff5e82ccc>\u001b[0m in \u001b[0;36m<module>\u001b[0;34m\u001b[0m\n\u001b[1;32m      1\u001b[0m \u001b[0;32mfor\u001b[0m \u001b[0m_\u001b[0m\u001b[0;34m,\u001b[0m \u001b[0mrow\u001b[0m \u001b[0;32min\u001b[0m \u001b[0mfile\u001b[0m\u001b[0;34m.\u001b[0m\u001b[0miterrows\u001b[0m\u001b[0;34m(\u001b[0m\u001b[0;34m)\u001b[0m\u001b[0;34m:\u001b[0m\u001b[0;34m\u001b[0m\u001b[0;34m\u001b[0m\u001b[0m\n\u001b[0;32m----> 2\u001b[0;31m     \u001b[0mprint\u001b[0m\u001b[0;34m(\u001b[0m\u001b[0mrow\u001b[0m\u001b[0;34m[\u001b[0m\u001b[0;34m'Date of creation'\u001b[0m\u001b[0;34m]\u001b[0m\u001b[0;34m.\u001b[0m\u001b[0mdate\u001b[0m\u001b[0;34m(\u001b[0m\u001b[0;34m)\u001b[0m\u001b[0;34m)\u001b[0m\u001b[0;34m\u001b[0m\u001b[0;34m\u001b[0m\u001b[0m\n\u001b[0m",
      "\u001b[0;31mAttributeError\u001b[0m: 'str' object has no attribute 'date'"
     ]
    }
   ],
   "source": [
    "for _, row in file.iterrows():\n",
    "    print(row['Date of creation'].date())"
   ]
  },
  {
   "cell_type": "code",
   "execution_count": null,
   "metadata": {},
   "outputs": [],
   "source": []
  }
 ]
}